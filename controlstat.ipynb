{
  "nbformat": 4,
  "nbformat_minor": 0,
  "metadata": {
    "colab": {
      "provenance": [],
      "authorship_tag": "ABX9TyOtDC6IKb5bxkkiqcSyiEyp",
      "include_colab_link": true
    },
    "kernelspec": {
      "name": "python3",
      "display_name": "Python 3"
    },
    "language_info": {
      "name": "python"
    }
  },
  "cells": [
    {
      "cell_type": "markdown",
      "metadata": {
        "id": "view-in-github",
        "colab_type": "text"
      },
      "source": [
        "<a href=\"https://colab.research.google.com/github/janhavi6628/Python/blob/main/controlstat.ipynb\" target=\"_parent\"><img src=\"https://colab.research.google.com/assets/colab-badge.svg\" alt=\"Open In Colab\"/></a>"
      ]
    },
    {
      "cell_type": "code",
      "source": [
        "# Positive, Negative or Zero\n",
        "number=int(input(\"Enter number of your choice: \"))\n",
        "if (number == 0):\n",
        "  print(\"The number is zero\")\n",
        "elif(number>0):\n",
        "  print(\"The number is positive\")\n",
        "else:\n",
        "  print(\"The number is negative\")\n"
      ],
      "metadata": {
        "colab": {
          "base_uri": "https://localhost:8080/"
        },
        "id": "inOX5woIfWNb",
        "outputId": "2a2333f8-fe87-442a-a9a8-c82e269d4781"
      },
      "execution_count": 16,
      "outputs": [
        {
          "output_type": "stream",
          "name": "stdout",
          "text": [
            "Enter number of your choice: 0\n",
            "The number is zero\n"
          ]
        }
      ]
    },
    {
      "cell_type": "code",
      "source": [
        "# Even or Odd\n",
        "number1=int(input(\"Enter the number of your choice: \"))\n",
        "if(number1%2==0):\n",
        "  print(\"Even number\")\n",
        "else:\n",
        "  print(\"Odd number\")\n"
      ],
      "metadata": {
        "colab": {
          "base_uri": "https://localhost:8080/"
        },
        "id": "Bx6V5p2igACv",
        "outputId": "12294ea1-99af-41b7-83a9-bde25288b5ab"
      },
      "execution_count": 17,
      "outputs": [
        {
          "output_type": "stream",
          "name": "stdout",
          "text": [
            "Enter the number of your choice: 89\n",
            "Odd number\n"
          ]
        }
      ]
    },
    {
      "cell_type": "code",
      "source": [
        "# Find the Largest of Two Numbers\n",
        "\n",
        "a1=int(input(\"Enter number of your choice: \"))\n",
        "a2=int(input(\"Enter number of your choice: \"))\n",
        "if(a1>a2):\n",
        "  print(a1,\"is greater than\",a2)\n",
        "else:\n",
        "  print(a2,\"is greater than\",a1)"
      ],
      "metadata": {
        "colab": {
          "base_uri": "https://localhost:8080/"
        },
        "id": "NNatOPjmgoR6",
        "outputId": "929b8b18-78ec-419a-934a-373ad19b0678"
      },
      "execution_count": 18,
      "outputs": [
        {
          "output_type": "stream",
          "name": "stdout",
          "text": [
            "Enter number of your choice: 78\n",
            "Enter number of your choice: 89\n",
            "89 is greater than 78\n"
          ]
        }
      ]
    },
    {
      "cell_type": "code",
      "source": [
        "# Grade Calculator\n",
        "# Accept marks from the user (0 to 100).\n",
        "# Print grade as per the following:\n",
        "# 90–100: A, 80–89: B, 70–79: C, 60–69: D, below 60: F\n",
        "\n",
        "n1=int(input(\"Enter your marks: \"))\n",
        "if(n1<0 or n1>100):\n",
        "  print(\"Invalid marks\")\n",
        "elif(n1>=90 and n1<=100):\n",
        "  print(\"Grade A\")\n",
        "elif(n1>=80 and n1<90):\n",
        "  print(\"Grade B\")\n",
        "elif(n1>=70 and n1<80):\n",
        "  print(\"Grade C\")\n",
        "elif(n1>=60 and n1<70):\n",
        "  print(\"Grade D\")\n",
        "else:\n",
        "  print(\"Grade F\")"
      ],
      "metadata": {
        "colab": {
          "base_uri": "https://localhost:8080/"
        },
        "id": "espXstzinlZf",
        "outputId": "affb96f2-d1b9-4ae1-b748-d3a016a97cb1"
      },
      "execution_count": 19,
      "outputs": [
        {
          "output_type": "stream",
          "name": "stdout",
          "text": [
            "Enter your marks: 79\n",
            "Grade C\n"
          ]
        }
      ]
    },
    {
      "cell_type": "code",
      "source": [
        "# Leap Year Checker\n",
        "year=int(input(\"Enter the year of your choice: \"))\n",
        "if (year%4==0):\n",
        "  print(year,\"is a leap year\")\n",
        "else:\n",
        "  print(year,\"is not a leap year\")\n"
      ],
      "metadata": {
        "colab": {
          "base_uri": "https://localhost:8080/"
        },
        "id": "oJDuA35ApmoF",
        "outputId": "6a98fbba-caf0-46d4-8fd1-d50d3e3357a8"
      },
      "execution_count": 21,
      "outputs": [
        {
          "output_type": "stream",
          "name": "stdout",
          "text": [
            "Enter the year of your choice: 2019\n",
            "2019 is not a leap year\n"
          ]
        }
      ]
    },
    {
      "cell_type": "code",
      "source": [
        "# Traffic Light Simulator\n",
        "\n",
        "color=input(\"Enter the color of traffic light: \")\n",
        "if (color==\"Red\"):\n",
        "  print(\"Stop\")\n",
        "elif (color==\"Yellow\"):\n",
        "  print(\"Get Ready\")\n",
        "elif (color==\"Green\"):\n",
        "  print(\"Go\")\n",
        "else:\n",
        "  print(\"Invalid color\")\n"
      ],
      "metadata": {
        "colab": {
          "base_uri": "https://localhost:8080/"
        },
        "id": "PET9JOEqqfXg",
        "outputId": "a5c1e9b8-b4b5-49bc-f31b-db4853fa36dd"
      },
      "execution_count": 27,
      "outputs": [
        {
          "output_type": "stream",
          "name": "stdout",
          "text": [
            "Enter the color of traffic light: Green\n",
            "Go\n"
          ]
        }
      ]
    },
    {
      "cell_type": "code",
      "source": [
        "# Menu-Driven Calculator\n",
        "\n",
        "print(\"Welcome to simple calculator\")\n",
        "print(\"Choose Operation: \")\n",
        "print(\"1.Addition (+)\")\n",
        "print(\"2.Subtraction (-)\")\n",
        "print(\"3.Multiplication (*)\")\n",
        "print(\"4.Division (/)\")\n",
        "num1=float(input(\"Enter first number of your choice: \"))\n",
        "num2=float(input(\"Enter second number of your choice: \"))\n",
        "choice=input(\"Enter choice (1/2/3/4): \")\n",
        "if choice=='1':  # If you type: 1  Then choice = '1'  →  This is a string, not an integer\n",
        "  result= num1+num2\n",
        "  print(\"Result\",result)\n",
        "elif choice=='2':\n",
        "  result =num1-num2\n",
        "  print(\"Result\",result)\n",
        "elif choice=='3':\n",
        "  result =num1*num2\n",
        "  print(\"Result\",result)\n",
        "elif choice=='4':\n",
        "  if num2!=0:\n",
        "    result= num1/num2\n",
        "    print(\"Result\",result)"
      ],
      "metadata": {
        "colab": {
          "base_uri": "https://localhost:8080/"
        },
        "id": "ljioWBVos4fd",
        "outputId": "960386ac-b3a4-4a72-9964-4c666ee1c071"
      },
      "execution_count": 33,
      "outputs": [
        {
          "output_type": "stream",
          "name": "stdout",
          "text": [
            "Welcome to simple calculator\n",
            "Choose Operation: \n",
            "1.Addition (+)\n",
            "2.Subtraction (-)\n",
            "3.Multiplication (*)\n",
            "4.Division (/)\n",
            "Enter first number of your choice: 7\n",
            "Enter second number of your choice: 7\n",
            "Enter choice (1/2/3/4): 1\n",
            "Result 14.0\n"
          ]
        }
      ]
    },
    {
      "cell_type": "code",
      "source": [
        "# Check Eligibility for Voting\n",
        "\n",
        "age=int(input(\"Enter your age: \"))\n",
        "if (age>=18):\n",
        "  print(\"You are eligible to vote\")\n",
        "else:\n",
        "  print(\"You are not eligible to vote\")\n"
      ],
      "metadata": {
        "colab": {
          "base_uri": "https://localhost:8080/"
        },
        "id": "5p8Ytj5LvnY7",
        "outputId": "61124928-5390-41c1-871d-8a764fbc7f11"
      },
      "execution_count": 35,
      "outputs": [
        {
          "output_type": "stream",
          "name": "stdout",
          "text": [
            "Enter your age: 78\n",
            "You are eligible to vote\n"
          ]
        }
      ]
    },
    {
      "cell_type": "code",
      "source": [
        "#  Divisible by 2 and 3\n",
        "\n",
        "num=int(input(\"Enter number of your choice: \"))\n",
        "if (num%2==0 and num%3==0):\n",
        "  print(num,\"is divisible by 2 and 3\")\n",
        "elif(num%2==0):\n",
        "  print(num,\"is divisible by 2\")\n",
        "elif(num%3==0):\n",
        "  print(num,\"is divisible by 3\")\n",
        "else:\n",
        "  print(num,\"is not divisible by 2 or 3\")"
      ],
      "metadata": {
        "colab": {
          "base_uri": "https://localhost:8080/"
        },
        "id": "pwaipHaUwSY1",
        "outputId": "41bd0376-40ef-4073-948d-cecdddaed2ac"
      },
      "execution_count": 37,
      "outputs": [
        {
          "output_type": "stream",
          "name": "stdout",
          "text": [
            "Enter number of your choice: 9\n",
            "9 is divisible by 3\n"
          ]
        }
      ]
    },
    {
      "cell_type": "code",
      "source": [
        "#Simple Login System\n",
        "# Ask user to input username and password.\n",
        "# If username is \"admin\" and password is \"1234\", print \"Login successful\"\n",
        "# Else print \"Invalid credentials\"\n",
        "\n",
        "username=input(\"Enter username: \")\n",
        "password=input(\"Enter password: \")\n",
        "if (username==\"admin\" and password==\"1234\"):\n",
        "  print(\"Login sucessful\")\n",
        "else:\n",
        "  print(\"Invalid credentials\")"
      ],
      "metadata": {
        "colab": {
          "base_uri": "https://localhost:8080/"
        },
        "id": "BDUi-5AjxhJn",
        "outputId": "f3777f06-7b1d-42ed-e366-04f4fcfedbb4"
      },
      "execution_count": 41,
      "outputs": [
        {
          "output_type": "stream",
          "name": "stdout",
          "text": [
            "Enter username: admin\n",
            "Enter password: 1234\n",
            "Login sucessful\n"
          ]
        }
      ]
    }
  ]
}